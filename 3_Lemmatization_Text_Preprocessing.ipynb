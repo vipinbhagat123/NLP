{
  "nbformat": 4,
  "nbformat_minor": 0,
  "metadata": {
    "colab": {
      "provenance": []
    },
    "kernelspec": {
      "name": "python3",
      "display_name": "Python 3"
    },
    "language_info": {
      "name": "python"
    }
  },
  "cells": [
    {
      "cell_type": "markdown",
      "source": [
        "# Wordnet Lemmatizer\n",
        "\n",
        "Lemmatization technique is like stemming. The output we will get after lemmatization is called ‘lemma’, which is a root word rather than root stem, the output of stemming. After lemmatization, we will be getting a valid word that means the same thing.\n",
        "\n",
        "NLTK provides WordNetLemmatizer class which is a thin wrapper around the wordnet corpus. This class uses morphy() function to the WordNet CorpusReader class to find a lemma. Let us understand it with an example −"
      ],
      "metadata": {
        "id": "RxlMJB_bIagn"
      }
    },
    {
      "cell_type": "code",
      "source": [
        "!pip install nltk"
      ],
      "metadata": {
        "colab": {
          "base_uri": "https://localhost:8080/"
        },
        "id": "vVEYvR_TKifX",
        "outputId": "12d93ba3-5198-476b-a596-273c65ccb100"
      },
      "execution_count": 15,
      "outputs": [
        {
          "output_type": "stream",
          "name": "stdout",
          "text": [
            "Requirement already satisfied: nltk in /usr/local/lib/python3.10/dist-packages (3.8.1)\n",
            "Requirement already satisfied: click in /usr/local/lib/python3.10/dist-packages (from nltk) (8.1.7)\n",
            "Requirement already satisfied: joblib in /usr/local/lib/python3.10/dist-packages (from nltk) (1.4.2)\n",
            "Requirement already satisfied: regex>=2021.8.3 in /usr/local/lib/python3.10/dist-packages (from nltk) (2024.5.15)\n",
            "Requirement already satisfied: tqdm in /usr/local/lib/python3.10/dist-packages (from nltk) (4.66.4)\n"
          ]
        }
      ]
    },
    {
      "cell_type": "code",
      "source": [
        "import nltk"
      ],
      "metadata": {
        "id": "i6dWsZlLKlSv"
      },
      "execution_count": 16,
      "outputs": []
    },
    {
      "cell_type": "code",
      "source": [
        "nltk.download('wordnet')"
      ],
      "metadata": {
        "colab": {
          "base_uri": "https://localhost:8080/"
        },
        "id": "GG9bYyENKotX",
        "outputId": "443d8de8-6824-43dc-942a-ac9d77b7c792"
      },
      "execution_count": 17,
      "outputs": [
        {
          "output_type": "stream",
          "name": "stderr",
          "text": [
            "[nltk_data] Downloading package wordnet to /root/nltk_data...\n",
            "[nltk_data]   Package wordnet is already up-to-date!\n"
          ]
        },
        {
          "output_type": "execute_result",
          "data": {
            "text/plain": [
              "True"
            ]
          },
          "metadata": {},
          "execution_count": 17
        }
      ]
    },
    {
      "cell_type": "code",
      "execution_count": 18,
      "metadata": {
        "id": "YBgjTLrOIUq2"
      },
      "outputs": [],
      "source": [
        "from nltk.stem import WordNetLemmatizer\n"
      ]
    },
    {
      "cell_type": "code",
      "source": [
        "Lemmatizer=WordNetLemmatizer()\n"
      ],
      "metadata": {
        "id": "HDm4FHHyI23Y"
      },
      "execution_count": 19,
      "outputs": []
    },
    {
      "cell_type": "code",
      "source": [
        "Lemmatizer.lemmatize('going')"
      ],
      "metadata": {
        "colab": {
          "base_uri": "https://localhost:8080/",
          "height": 36
        },
        "id": "uiM939HuK6tY",
        "outputId": "62546152-d40f-4d19-faab-8c32950f9da1"
      },
      "execution_count": 20,
      "outputs": [
        {
          "output_type": "execute_result",
          "data": {
            "text/plain": [
              "'going'"
            ],
            "application/vnd.google.colaboratory.intrinsic+json": {
              "type": "string"
            }
          },
          "metadata": {},
          "execution_count": 20
        }
      ]
    },
    {
      "cell_type": "code",
      "source": [
        "'''\n",
        "POS- Noun-n\n",
        "verb-v\n",
        "adjective-a\n",
        "adverb-r\n",
        "'''\n",
        "\n",
        "Lemmatizer.lemmatize('going', pos='n')"
      ],
      "metadata": {
        "colab": {
          "base_uri": "https://localhost:8080/",
          "height": 36
        },
        "id": "yZcVmISwLCuF",
        "outputId": "e0c2cc27-f7bd-47c1-e0f4-37a7e785bf8d"
      },
      "execution_count": 22,
      "outputs": [
        {
          "output_type": "execute_result",
          "data": {
            "text/plain": [
              "'going'"
            ],
            "application/vnd.google.colaboratory.intrinsic+json": {
              "type": "string"
            }
          },
          "metadata": {},
          "execution_count": 22
        }
      ]
    },
    {
      "cell_type": "code",
      "source": [
        "Lemmatizer.lemmatize('going', pos='v')"
      ],
      "metadata": {
        "colab": {
          "base_uri": "https://localhost:8080/",
          "height": 36
        },
        "id": "2_JNo2l3Lqgt",
        "outputId": "310877fa-7c18-467e-e7b9-18dac8188a19"
      },
      "execution_count": 23,
      "outputs": [
        {
          "output_type": "execute_result",
          "data": {
            "text/plain": [
              "'go'"
            ],
            "application/vnd.google.colaboratory.intrinsic+json": {
              "type": "string"
            }
          },
          "metadata": {},
          "execution_count": 23
        }
      ]
    },
    {
      "cell_type": "code",
      "source": [
        "Lemmatizer.lemmatize('going', pos='a')"
      ],
      "metadata": {
        "colab": {
          "base_uri": "https://localhost:8080/",
          "height": 36
        },
        "id": "vyP5qi1fLwBp",
        "outputId": "67b5add2-39ee-4f67-8e30-bfa53c65c89f"
      },
      "execution_count": 24,
      "outputs": [
        {
          "output_type": "execute_result",
          "data": {
            "text/plain": [
              "'going'"
            ],
            "application/vnd.google.colaboratory.intrinsic+json": {
              "type": "string"
            }
          },
          "metadata": {},
          "execution_count": 24
        }
      ]
    },
    {
      "cell_type": "code",
      "source": [
        "Lemmatizer.lemmatize('going', pos='r')"
      ],
      "metadata": {
        "colab": {
          "base_uri": "https://localhost:8080/",
          "height": 36
        },
        "id": "_2BJ7LG2Lxn6",
        "outputId": "ba27d2f5-6c07-4a80-bc92-58b7e10e95b6"
      },
      "execution_count": 25,
      "outputs": [
        {
          "output_type": "execute_result",
          "data": {
            "text/plain": [
              "'going'"
            ],
            "application/vnd.google.colaboratory.intrinsic+json": {
              "type": "string"
            }
          },
          "metadata": {},
          "execution_count": 25
        }
      ]
    },
    {
      "cell_type": "code",
      "source": [
        "words=[\"eating\",\"eats\",\"eaten\",\"writing\",\"writes\",\"programming\",\"programs\",\"history\",\"finally\",\"finalized\"]\n"
      ],
      "metadata": {
        "id": "9Qh56A0BLzdP"
      },
      "execution_count": 26,
      "outputs": []
    },
    {
      "cell_type": "code",
      "source": [
        "for i in words:\n",
        "  print(i, \"--->\", Lemmatizer.lemmatize(i))"
      ],
      "metadata": {
        "colab": {
          "base_uri": "https://localhost:8080/"
        },
        "id": "9nS0yNreL5Zi",
        "outputId": "3b91d6b8-7b97-48f6-904d-bf8a7848cbe5"
      },
      "execution_count": 27,
      "outputs": [
        {
          "output_type": "stream",
          "name": "stdout",
          "text": [
            "eating ---> eating\n",
            "eats ---> eats\n",
            "eaten ---> eaten\n",
            "writing ---> writing\n",
            "writes ---> writes\n",
            "programming ---> programming\n",
            "programs ---> program\n",
            "history ---> history\n",
            "finally ---> finally\n",
            "finalized ---> finalized\n"
          ]
        }
      ]
    },
    {
      "cell_type": "code",
      "source": [
        "for i in words:\n",
        "  print(i, \"--->\", Lemmatizer.lemmatize(i, pos='n'))"
      ],
      "metadata": {
        "colab": {
          "base_uri": "https://localhost:8080/"
        },
        "id": "ukoPuOSKMCus",
        "outputId": "67306f4d-61b3-4f16-fbae-4336d37848cd"
      },
      "execution_count": 28,
      "outputs": [
        {
          "output_type": "stream",
          "name": "stdout",
          "text": [
            "eating ---> eating\n",
            "eats ---> eats\n",
            "eaten ---> eaten\n",
            "writing ---> writing\n",
            "writes ---> writes\n",
            "programming ---> programming\n",
            "programs ---> program\n",
            "history ---> history\n",
            "finally ---> finally\n",
            "finalized ---> finalized\n"
          ]
        }
      ]
    },
    {
      "cell_type": "code",
      "source": [
        "for i in words:\n",
        "  print(i, \"--->\", Lemmatizer.lemmatize(i, pos='v'))"
      ],
      "metadata": {
        "colab": {
          "base_uri": "https://localhost:8080/"
        },
        "id": "NapyfG4hMm3X",
        "outputId": "5d9a521d-6743-4e47-f509-8d8f02fd0851"
      },
      "execution_count": 29,
      "outputs": [
        {
          "output_type": "stream",
          "name": "stdout",
          "text": [
            "eating ---> eat\n",
            "eats ---> eat\n",
            "eaten ---> eat\n",
            "writing ---> write\n",
            "writes ---> write\n",
            "programming ---> program\n",
            "programs ---> program\n",
            "history ---> history\n",
            "finally ---> finally\n",
            "finalized ---> finalize\n"
          ]
        }
      ]
    },
    {
      "cell_type": "code",
      "source": [
        "for i in words:\n",
        "  print(i, \"--->\", Lemmatizer.lemmatize(i, pos='a'))"
      ],
      "metadata": {
        "colab": {
          "base_uri": "https://localhost:8080/"
        },
        "id": "DnqSzcZOMoOq",
        "outputId": "208c1ca3-98c5-4983-bc78-bae802d5297d"
      },
      "execution_count": 30,
      "outputs": [
        {
          "output_type": "stream",
          "name": "stdout",
          "text": [
            "eating ---> eating\n",
            "eats ---> eats\n",
            "eaten ---> eaten\n",
            "writing ---> writing\n",
            "writes ---> writes\n",
            "programming ---> programming\n",
            "programs ---> programs\n",
            "history ---> history\n",
            "finally ---> finally\n",
            "finalized ---> finalized\n"
          ]
        }
      ]
    },
    {
      "cell_type": "code",
      "source": [
        "for i in words:\n",
        "  print(i, \"--->\", Lemmatizer.lemmatize(i, pos='r'))"
      ],
      "metadata": {
        "colab": {
          "base_uri": "https://localhost:8080/"
        },
        "id": "bERPjSf6Mp2C",
        "outputId": "21f576fb-2908-4c34-aec5-73a7fb5aab05"
      },
      "execution_count": 31,
      "outputs": [
        {
          "output_type": "stream",
          "name": "stdout",
          "text": [
            "eating ---> eating\n",
            "eats ---> eats\n",
            "eaten ---> eaten\n",
            "writing ---> writing\n",
            "writes ---> writes\n",
            "programming ---> programming\n",
            "programs ---> programs\n",
            "history ---> history\n",
            "finally ---> finally\n",
            "finalized ---> finalized\n"
          ]
        }
      ]
    },
    {
      "cell_type": "code",
      "source": [
        "Lemmatizer.lemmatize(\"goes\",pos='v')\n"
      ],
      "metadata": {
        "colab": {
          "base_uri": "https://localhost:8080/",
          "height": 36
        },
        "id": "qC87M5fcMrWL",
        "outputId": "eef8826a-74c0-4b52-d7e4-1ad1689b8420"
      },
      "execution_count": 34,
      "outputs": [
        {
          "output_type": "execute_result",
          "data": {
            "text/plain": [
              "'go'"
            ],
            "application/vnd.google.colaboratory.intrinsic+json": {
              "type": "string"
            }
          },
          "metadata": {},
          "execution_count": 34
        }
      ]
    },
    {
      "cell_type": "code",
      "source": [
        "Lemmatizer.lemmatize(\"fairly\",pos='v'),Lemmatizer.lemmatize(\"sportingly\")\n"
      ],
      "metadata": {
        "colab": {
          "base_uri": "https://localhost:8080/"
        },
        "id": "oP8fQP7eMu8S",
        "outputId": "07e54770-c49f-42ff-9747-23abde758bdb"
      },
      "execution_count": 35,
      "outputs": [
        {
          "output_type": "execute_result",
          "data": {
            "text/plain": [
              "('fairly', 'sportingly')"
            ]
          },
          "metadata": {},
          "execution_count": 35
        }
      ]
    },
    {
      "cell_type": "code",
      "source": [],
      "metadata": {
        "id": "nEOocajcMxIE"
      },
      "execution_count": null,
      "outputs": []
    }
  ]
}